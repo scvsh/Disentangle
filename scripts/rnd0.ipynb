{
 "cells": [
  {
   "cell_type": "code",
   "execution_count": null,
   "metadata": {},
   "outputs": [],
   "source": [
    "from data_help import *\n",
    "import os\n",
    "import numpy as np\n",
    "import pandas as pd\n",
    "import tensorflow.compat.v1 as tf\n",
    "import modeling as modeling\n",
    "\n",
    "import logging\n",
    "import datetime\n",
    "import time\n",
    "import operator, os, tokenization\n",
    "import time, random, copy, json\n",
    "\n",
    "from Model_exloss import *\n",
    "\n",
    "import pdb\n",
    "import optimization as optimization"
   ]
  },
  {
   "cell_type": "code",
   "execution_count": null,
   "metadata": {},
   "outputs": [],
   "source": [
    "bert_config_file = '../uncased_L-12_H-768_A-12/bert_config.json'\n",
    "dev_dirs = '../DSTC8_DATA/Task_4/dev/'\n",
    "dev_paths = os.listdir('../DSTC8_DATA/Task_4/dev/')\n",
    "max_turns = 50\n",
    "\n",
    "dev_paths = [os.path.join(dev_dirs, path) for path in dev_paths if path.endswith('.annotation.txt')]\n",
    "dev_instances, cluster_dic = read_data(dev_paths, is_test=True)"
   ]
  },
  {
   "cell_type": "code",
   "execution_count": null,
   "metadata": {},
   "outputs": [],
   "source": [
    "dev_dataset, data_query, data_name = load_data(dev_instances, max_turns)"
   ]
  },
  {
   "cell_type": "code",
   "execution_count": null,
   "metadata": {},
   "outputs": [],
   "source": [
    "name, link, nums, text_ascii, text_tok, info, target_info = dev_instances[0]"
   ]
  },
  {
   "cell_type": "code",
   "execution_count": null,
   "metadata": {},
   "outputs": [],
   "source": [
    "bert_config = modeling.BertConfig.from_json_file(bert_config_file)"
   ]
  },
  {
   "cell_type": "code",
   "execution_count": null,
   "metadata": {},
   "outputs": [],
   "source": [
    "with tf.Graph().as_default():\n",
    "        with tf.device(\"/cpu:0\"):\n",
    "            session_conf = tf.compat.v1.ConfigProto(allow_soft_placement=True, log_device_placement=True)\n",
    "            with tf.compat.v1.Session(config=session_conf).as_default() as sess:\n",
    "                model = DialModel(bert_config, use_one_hot_embeddings=False, num_turns=max_turns)\n",
    "                model.build_graph()"
   ]
  },
  {
   "cell_type": "code",
   "execution_count": 7,
   "metadata": {},
   "outputs": [
    {
     "data": {
      "text/plain": [
       "<Model_exloss.DialModel at 0x10649e400>"
      ]
     },
     "execution_count": 7,
     "metadata": {},
     "output_type": "execute_result"
    }
   ],
   "source": []
  },
  {
   "cell_type": "code",
   "execution_count": null,
   "metadata": {},
   "outputs": [],
   "source": []
  }
 ],
 "metadata": {
  "kernelspec": {
   "display_name": "llama",
   "language": "python",
   "name": "python3"
  },
  "language_info": {
   "codemirror_mode": {
    "name": "ipython",
    "version": 3
   },
   "file_extension": ".py",
   "mimetype": "text/x-python",
   "name": "python",
   "nbconvert_exporter": "python",
   "pygments_lexer": "ipython3",
   "version": "3.9.16"
  }
 },
 "nbformat": 4,
 "nbformat_minor": 2
}
